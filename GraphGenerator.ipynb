{
 "cells": [
  {
   "cell_type": "code",
   "execution_count": null,
   "outputs": [],
   "source": [
    "import pandas as pd\n",
    "import seaborn as sns\n",
    "import json\n",
    "import urllib.request\n",
    "import numpy as np\n",
    "import matplotlib.pyplot as plt"
   ],
   "metadata": {
    "collapsed": false,
    "pycharm": {
     "name": "#%%\n"
    }
   }
  },
  {
   "cell_type": "code",
   "execution_count": null,
   "outputs": [],
   "source": [
    "with open(r\"words.txt\", encoding=\"utf-8\") as f:\n",
    "    wordle_script = f.read()\n",
    "\n",
    "raw_words = wordle_script.split(',')\n",
    "wordle_words = []\n",
    "for raw_word in raw_words:\n",
    "    word = raw_word.strip('\"')\n",
    "    wordle_words.append(word)\n",
    "\n",
    "curated_words = wordle_words[:2315]\n",
    "\n",
    "with open(r'wordle_words.json', 'w') as outfile:\n",
    "    json.dump(wordle_words, outfile)"
   ],
   "metadata": {
    "collapsed": false,
    "pycharm": {
     "name": "#%%\n"
    }
   }
  },
  {
   "cell_type": "code",
   "execution_count": null,
   "outputs": [],
   "source": [
    "# Word list with frequency from Google\n",
    "flw_with_freq = []  # flw = five letter words\n",
    "for line in urllib.request.urlopen(r'http://norvig.com/google-books-common-words.txt'):\n",
    "    line = (line.decode('utf-8')).split('\\t')\n",
    "    word = line[0].lower()\n",
    "    freq = line[1].split('\\n')[0]\n",
    "    if len(word) == 5:\n",
    "        flw_with_freq.append((word, freq))"
   ],
   "metadata": {
    "collapsed": false,
    "pycharm": {
     "name": "#%%\n"
    }
   }
  },
  {
   "cell_type": "code",
   "execution_count": null,
   "outputs": [],
   "source": [
    "w = pd.DataFrame(wordle_words, columns=['w'])\n",
    "w['in_wordle'] = w['w'].apply(lambda x: x in wordle_words)\n",
    "w['in_wordle_curated'] = w['w'].apply(lambda x: x in curated_words)\n",
    "flwfreqdf = pd.DataFrame(flw_with_freq, columns=['w', 'freq'])\n",
    "w = w.merge(right=flwfreqdf, left_on='w', right_on='w', how='outer')\n",
    "w.loc[:, ['in_wordle', 'in_wordle_curated']] = w.loc[:, ['in_wordle', 'in_wordle_curated']].replace(np.nan, False)\n",
    "w.set_index('w', inplace=True)\n",
    "w['freq'] = w['freq'].astype('float64')\n",
    "w.to_csv(r'wordle_google_freq_word_list.csv')\n",
    "w"
   ],
   "metadata": {
    "collapsed": false,
    "pycharm": {
     "name": "#%%\n"
    }
   }
  },
  {
   "cell_type": "code",
   "execution_count": null,
   "outputs": [],
   "source": [
    "alphabet = 'abcdefghijklmnopqrstuvwxyz'\n",
    "\n",
    "def make_bow(word_list):\n",
    "    # bow = Bag Of Words\n",
    "    bow = {i: {letter: 0 for letter in alphabet} for i in range(5)}\n",
    "    for char in range(5):\n",
    "        for word in word_list:\n",
    "            bow[char][word[char]] += 1\n",
    "    # normalize each count by dividing by len(word_list)\n",
    "    for i in bow:\n",
    "        for char in bow[i]:\n",
    "            bow[i][char] = bow[i][char]/len(word_list)\n",
    "    return bow"
   ],
   "metadata": {
    "collapsed": false,
    "pycharm": {
     "name": "#%%\n"
    }
   }
  },
  {
   "cell_type": "code",
   "execution_count": null,
   "outputs": [],
   "source": [
    "bow_17k = make_bow(w.index.to_list())\n",
    "bow_all_wordle = make_bow(w.loc[w['in_wordle']].index.to_list())\n",
    "bow_curated_wordle = make_bow(w.loc[w['in_wordle_curated']].index.to_list())\n",
    "all_bow = {'combined_wordle_google': bow_17k, 'all_wordle': bow_all_wordle, 'wordle_curated': bow_curated_wordle}\n",
    "\n",
    "with open(r'bags_of_words.json', 'w') as outfile:\n",
    "    json.dump(all_bow, outfile)"
   ],
   "metadata": {
    "collapsed": false,
    "pycharm": {
     "name": "#%%\n"
    }
   }
  },
  {
   "cell_type": "code",
   "execution_count": null,
   "outputs": [],
   "source": [
    "def calc_lfl(word_list, bow, colname):\n",
    "    \"\"\"    \n",
    "    Calculate Likelihood of word from Letter Frequency given in a bag of words 5x26 matrix \n",
    "        see BJA-01.2-make-word-lists\n",
    "    \"\"\"\n",
    "    result = []\n",
    "    for word in word_list:\n",
    "        likelihood = 1\n",
    "        for i, letter in enumerate(word):\n",
    "            likelihood *= bow[str(i)][letter]\n",
    "        result.append((word, likelihood))\n",
    "    return pd.DataFrame(sorted(result, key=lambda x: x[1], reverse=True), columns=['w', colname]).set_index('w') \n",
    "\n",
    "def total_green_letter_prob(word, bow=bowcur):\n",
    "    # Finds total probability that you will get at least 1 green in any position by testing this word\n",
    "    prob = 0\n",
    "    for i, letter in enumerate(word):\n",
    "        prob += bow[str(i)][letter]\n",
    "    return prob"
   ],
   "metadata": {
    "collapsed": false,
    "pycharm": {
     "name": "#%%\n"
    }
   }
  },
  {
   "cell_type": "code",
   "execution_count": null,
   "outputs": [],
   "source": [
    "# word list with frequencies\n",
    "wl = pd.read_csv(r'wordle_google_freq_word_list.csv', index_col=0)\n",
    "alphabet = 'abcdefghijklmnopqrstuvwxyz'\n",
    "# Read in  Bags of Words matrices: \n",
    "with open(r'bags_of_words.json', 'r') as infile:\n",
    "    all_bow = json.load(infile, parse_int=False)\n",
    "bow17 = all_bow['combined_wordle_google']\n",
    "bowwordle = all_bow['all_wordle']\n",
    "bowcur = all_bow['wordle_curated']\n",
    "\n",
    "bow17lfl = calc_lfl(wl.index, bow17, colname='all')\n",
    "bowwordlelfl = calc_lfl(wl.loc[wl['in_wordle']].index, bowwordle, colname='wordle')\n",
    "bowcurlfl = calc_lfl(wl.loc[wl['in_wordle_curated']].index, bowcur, colname='curated')\n",
    "\n",
    "lfl = pd.concat([bow17lfl, bowwordlelfl, bowcurlfl], axis=1, sort=True)\n",
    "# lfl.to_csv(r'..\\data\\processed\\letter_freq_likelihoods.csv')"
   ],
   "metadata": {
    "collapsed": false,
    "pycharm": {
     "name": "#%%\n"
    }
   }
  },
  {
   "cell_type": "code",
   "execution_count": null,
   "outputs": [],
   "source": [
    "data = wl.loc[wl['in_wordle'], ['in_wordle_curated']]\n",
    "data['wp'] = calc_lfl(data.index, bowcur, colname='wp')   \n",
    "\n",
    "# wp = Word Probability from letter frequency\n",
    "# tglp = Total Green Letter Probability\n",
    "# sum of all probabilities of finding that letter in that position \n",
    "\n",
    "data['tglp'] = data.index.map(lambda x: total_green_letter_prob(x)) \n",
    "curated_sorted = data.sort_values(['in_wordle_curated', 'tglp'], ascending=False)\n",
    "curated_words = curated_sorted.loc[curated_sorted['in_wordle_curated']].index\n",
    "display(curated_words)\n",
    "data = data.sort_values('tglp', ascending=False)\n",
    "data['unique_letters'] = data.index.map(lambda x: len(set(x)))\n",
    "data.head(10)"
   ],
   "metadata": {
    "collapsed": false,
    "pycharm": {
     "name": "#%%\n"
    }
   }
  },
  {
   "cell_type": "code",
   "execution_count": null,
   "outputs": [],
   "source": [
    "data[data['in_wordle_curated']]['unique_letters'].hist()"
   ],
   "metadata": {
    "collapsed": false,
    "pycharm": {
     "name": "#%%\n"
    }
   }
  },
  {
   "cell_type": "code",
   "execution_count": null,
   "outputs": [],
   "source": [
    "ul = data[data['in_wordle_curated']]['unique_letters']\n",
    "ul = ul.append(pd.Series({'dummy2': 1, 'dummy3': 2}))\n",
    "ul.hist(bins=5, color='steelblue')\n",
    "plt.title('Number of unique letters in 2315 Wordle words', fontsize=16)\n",
    "plt.xticks([1.4,2.2,3,3.8, 4.6,], ['1','2','3','4','5'], fontsize=12)\n",
    "plt.yticks([400,800,1200,1600],fontsize=14)\n",
    "plt.grid(alpha=0.0, axis='x')"
   ],
   "metadata": {
    "collapsed": false,
    "pycharm": {
     "name": "#%%\n"
    }
   }
  },
  {
   "cell_type": "code",
   "execution_count": null,
   "outputs": [],
   "source": [
    "sns.boxplot(x='unique_letters', \n",
    "               y='tglp',\n",
    "#                scale='count',\n",
    "               data=data,\n",
    "#                order=['2', '3', '4', '5'], \n",
    "               orient='v')\n",
    "plt.ylim((0, 0.72))\n",
    "plt.annotate('n = 9', xy=(0, 0.02), fontsize=14, ha='center')\n",
    "plt.annotate('n = 456', xy=(1, 0.02), fontsize=14, ha='center')\n",
    "plt.annotate('n = 4185', xy=(2, 0.02), fontsize=14, ha='center')\n",
    "plt.annotate('n = 8322', xy=(3, 0.02), fontsize=14, ha='center')\n",
    "\n",
    "plt.gcf().set_size_inches((5, 5))\n",
    "plt.title('Number of unique letters in 2315 words', fontsize=16)\n",
    "plt.xticks(fontsize=14)\n",
    "plt.xlabel('Number of unique letters in word', fontsize=16)\n",
    "plt.ylabel('Total green letter probability', fontsize=16)\n",
    "plt.yticks(fontsize=14)"
   ],
   "metadata": {
    "collapsed": false,
    "pycharm": {
     "name": "#%%\n"
    }
   }
  },
  {
   "cell_type": "code",
   "execution_count": null,
   "outputs": [],
   "source": [],
   "metadata": {
    "collapsed": false,
    "pycharm": {
     "name": "#%%\n"
    }
   }
  },
  {
   "cell_type": "code",
   "execution_count": 14,
   "metadata": {},
   "outputs": [],
   "source": [
    "# Word list with frequency from Google\n",
    "flw_with_freq = []  # flw = five letter words\n",
    "for line in urllib.request.urlopen(r'http://norvig.com/google-books-common-words.txt'):\n",
    "    line = (line.decode('utf-8')).split('\\t')\n",
    "    word = line[0].lower()\n",
    "    freq = line[1].split('\\n')[0]\n",
    "    if len(word) == 5:\n",
    "        flw_with_freq.append((word, freq))"
   ]
  },
  {
   "cell_type": "code",
   "execution_count": 18,
   "metadata": {},
   "outputs": [
    {
     "data": {
      "text/html": [
       "<div>\n",
       "<style scoped>\n",
       "    .dataframe tbody tr th:only-of-type {\n",
       "        vertical-align: middle;\n",
       "    }\n",
       "\n",
       "    .dataframe tbody tr th {\n",
       "        vertical-align: top;\n",
       "    }\n",
       "\n",
       "    .dataframe thead th {\n",
       "        text-align: right;\n",
       "    }\n",
       "</style>\n",
       "<table border=\"1\" class=\"dataframe\">\n",
       "  <thead>\n",
       "    <tr style=\"text-align: right;\">\n",
       "      <th></th>\n",
       "      <th>in_wordle</th>\n",
       "      <th>in_wordle_curated</th>\n",
       "      <th>freq</th>\n",
       "    </tr>\n",
       "    <tr>\n",
       "      <th>w</th>\n",
       "      <th></th>\n",
       "      <th></th>\n",
       "      <th></th>\n",
       "    </tr>\n",
       "  </thead>\n",
       "  <tbody>\n",
       "    <tr>\n",
       "      <th>cigar</th>\n",
       "      <td>True</td>\n",
       "      <td>True</td>\n",
       "      <td>3877425.0</td>\n",
       "    </tr>\n",
       "    <tr>\n",
       "      <th>rebut</th>\n",
       "      <td>True</td>\n",
       "      <td>True</td>\n",
       "      <td>508399.0</td>\n",
       "    </tr>\n",
       "    <tr>\n",
       "      <th>sissy</th>\n",
       "      <td>True</td>\n",
       "      <td>True</td>\n",
       "      <td>548761.0</td>\n",
       "    </tr>\n",
       "    <tr>\n",
       "      <th>humph</th>\n",
       "      <td>True</td>\n",
       "      <td>True</td>\n",
       "      <td>274977.0</td>\n",
       "    </tr>\n",
       "    <tr>\n",
       "      <th>awake</th>\n",
       "      <td>True</td>\n",
       "      <td>True</td>\n",
       "      <td>9037710.0</td>\n",
       "    </tr>\n",
       "    <tr>\n",
       "      <th>...</th>\n",
       "      <td>...</td>\n",
       "      <td>...</td>\n",
       "      <td>...</td>\n",
       "    </tr>\n",
       "    <tr>\n",
       "      <th>kempf</th>\n",
       "      <td>False</td>\n",
       "      <td>False</td>\n",
       "      <td>100070.0</td>\n",
       "    </tr>\n",
       "    <tr>\n",
       "      <th>sakha</th>\n",
       "      <td>False</td>\n",
       "      <td>False</td>\n",
       "      <td>100063.0</td>\n",
       "    </tr>\n",
       "    <tr>\n",
       "      <th>ekiti</th>\n",
       "      <td>False</td>\n",
       "      <td>False</td>\n",
       "      <td>100063.0</td>\n",
       "    </tr>\n",
       "    <tr>\n",
       "      <th>evang</th>\n",
       "      <td>False</td>\n",
       "      <td>False</td>\n",
       "      <td>100011.0</td>\n",
       "    </tr>\n",
       "    <tr>\n",
       "      <th>losey</th>\n",
       "      <td>False</td>\n",
       "      <td>False</td>\n",
       "      <td>100008.0</td>\n",
       "    </tr>\n",
       "  </tbody>\n",
       "</table>\n",
       "<p>17991 rows × 3 columns</p>\n",
       "</div>"
      ],
      "text/plain": [
       "      in_wordle in_wordle_curated       freq\n",
       "w                                           \n",
       "cigar      True              True  3877425.0\n",
       "rebut      True              True   508399.0\n",
       "sissy      True              True   548761.0\n",
       "humph      True              True   274977.0\n",
       "awake      True              True  9037710.0\n",
       "...         ...               ...        ...\n",
       "kempf     False             False   100070.0\n",
       "sakha     False             False   100063.0\n",
       "ekiti     False             False   100063.0\n",
       "evang     False             False   100011.0\n",
       "losey     False             False   100008.0\n",
       "\n",
       "[17991 rows x 3 columns]"
      ]
     },
     "execution_count": 18,
     "metadata": {},
     "output_type": "execute_result"
    }
   ],
   "source": [
    "w = pd.DataFrame(wordle_words, columns=['w'])\n",
    "w['in_wordle'] = w['w'].apply(lambda x: x in wordle_words)\n",
    "w['in_wordle_curated'] = w['w'].apply(lambda x: x in curated_words)\n",
    "flwfreqdf = pd.DataFrame(flw_with_freq, columns=['w', 'freq'])\n",
    "w = w.merge(right=flwfreqdf, left_on='w', right_on='w', how='outer')\n",
    "w.loc[:, ['in_wordle', 'in_wordle_curated']] = w.loc[:, ['in_wordle', 'in_wordle_curated']].replace(np.nan, False)\n",
    "w.set_index('w', inplace=True)\n",
    "w['freq'] = w['freq'].astype('float64')\n",
    "w.to_csv(r'wordle_google_freq_word_list.csv')\n",
    "w"
   ]
  },
  {
   "cell_type": "code",
   "execution_count": 20,
   "metadata": {},
   "outputs": [],
   "source": [
    "alphabet = 'abcdefghijklmnopqrstuvwxyz'\n",
    "\n",
    "def make_bow(word_list):\n",
    "    # bow = Bag Of Words\n",
    "    bow = {i: {letter: 0 for letter in alphabet} for i in range(5)}\n",
    "    for char in range(5):\n",
    "        for word in word_list:\n",
    "            bow[char][word[char]] += 1\n",
    "    # normalize each count by dividing by len(word_list)\n",
    "    for i in bow:\n",
    "        for char in bow[i]:\n",
    "            bow[i][char] = bow[i][char]/len(word_list)\n",
    "    return bow"
   ]
  },
  {
   "cell_type": "code",
   "execution_count": 25,
   "metadata": {},
   "outputs": [],
   "source": [
    "bow_17k = make_bow(w.index.to_list())\n",
    "bow_all_wordle = make_bow(w.loc[w['in_wordle']].index.to_list())\n",
    "bow_curated_wordle = make_bow(w.loc[w['in_wordle_curated']].index.to_list())\n",
    "all_bow = {'combined_wordle_google': bow_17k, 'all_wordle': bow_all_wordle, 'wordle_curated': bow_curated_wordle}\n",
    "\n",
    "with open(r'bags_of_words.json', 'w') as outfile:\n",
    "    json.dump(all_bow, outfile)"
   ]
  },
  {
   "cell_type": "code",
   "execution_count": 30,
   "metadata": {},
   "outputs": [],
   "source": [
    "def calc_lfl(word_list, bow, colname):\n",
    "    \"\"\"    \n",
    "    Calculate Likelihood of word from Letter Frequency given in a bag of words 5x26 matrix \n",
    "        see BJA-01.2-make-word-lists\n",
    "    \"\"\"\n",
    "    result = []\n",
    "    for word in word_list:\n",
    "        likelihood = 1\n",
    "        for i, letter in enumerate(word):\n",
    "            likelihood *= bow[str(i)][letter]\n",
    "        result.append((word, likelihood))\n",
    "    return pd.DataFrame(sorted(result, key=lambda x: x[1], reverse=True), columns=['w', colname]).set_index('w') \n",
    "\n",
    "def total_green_letter_prob(word, bow=bowcur):\n",
    "    # Finds total probability that you will get at least 1 green in any position by testing this word\n",
    "    prob = 0\n",
    "    for i, letter in enumerate(word):\n",
    "        prob += bow[str(i)][letter]\n",
    "    return prob"
   ]
  },
  {
   "cell_type": "code",
   "execution_count": 28,
   "metadata": {},
   "outputs": [],
   "source": [
    "# word list with frequencies\n",
    "wl = pd.read_csv(r'wordle_google_freq_word_list.csv', index_col=0)\n",
    "alphabet = 'abcdefghijklmnopqrstuvwxyz'\n",
    "# Read in  Bags of Words matrices: \n",
    "with open(r'bags_of_words.json', 'r') as infile:\n",
    "    all_bow = json.load(infile, parse_int=False)\n",
    "bow17 = all_bow['combined_wordle_google']\n",
    "bowwordle = all_bow['all_wordle']\n",
    "bowcur = all_bow['wordle_curated']\n",
    "\n",
    "bow17lfl = calc_lfl(wl.index, bow17, colname='all')\n",
    "bowwordlelfl = calc_lfl(wl.loc[wl['in_wordle']].index, bowwordle, colname='wordle')\n",
    "bowcurlfl = calc_lfl(wl.loc[wl['in_wordle_curated']].index, bowcur, colname='curated')\n",
    "\n",
    "lfl = pd.concat([bow17lfl, bowwordlelfl, bowcurlfl], axis=1, sort=True)\n",
    "# lfl.to_csv(r'..\\data\\processed\\letter_freq_likelihoods.csv')"
   ]
  },
  {
   "cell_type": "code",
   "execution_count": 31,
   "metadata": {},
   "outputs": [
    {
     "data": {
      "text/plain": [
       "Index(['slate', 'sauce', 'slice', 'shale', 'saute', 'share', 'sooty', 'shine',\n",
       "       'suite', 'crane',\n",
       "       ...\n",
       "       'lymph', 'jumbo', 'igloo', 'ethic', 'unzip', 'umbra', 'affix', 'ethos',\n",
       "       'inbox', 'nymph'],\n",
       "      dtype='object', name='w', length=2315)"
      ]
     },
     "metadata": {},
     "output_type": "display_data"
    },
    {
     "data": {
      "text/html": [
       "<div>\n",
       "<style scoped>\n",
       "    .dataframe tbody tr th:only-of-type {\n",
       "        vertical-align: middle;\n",
       "    }\n",
       "\n",
       "    .dataframe tbody tr th {\n",
       "        vertical-align: top;\n",
       "    }\n",
       "\n",
       "    .dataframe thead th {\n",
       "        text-align: right;\n",
       "    }\n",
       "</style>\n",
       "<table border=\"1\" class=\"dataframe\">\n",
       "  <thead>\n",
       "    <tr style=\"text-align: right;\">\n",
       "      <th></th>\n",
       "      <th>in_wordle_curated</th>\n",
       "      <th>wp</th>\n",
       "      <th>tglp</th>\n",
       "      <th>unique_letters</th>\n",
       "    </tr>\n",
       "    <tr>\n",
       "      <th>w</th>\n",
       "      <th></th>\n",
       "      <th></th>\n",
       "      <th></th>\n",
       "      <th></th>\n",
       "    </tr>\n",
       "  </thead>\n",
       "  <tbody>\n",
       "    <tr>\n",
       "      <th>saree</th>\n",
       "      <td>False</td>\n",
       "      <td>0.000037</td>\n",
       "      <td>0.680346</td>\n",
       "      <td>4</td>\n",
       "    </tr>\n",
       "    <tr>\n",
       "      <th>sooey</th>\n",
       "      <td>False</td>\n",
       "      <td>0.000043</td>\n",
       "      <td>0.678618</td>\n",
       "      <td>4</td>\n",
       "    </tr>\n",
       "    <tr>\n",
       "      <th>soree</th>\n",
       "      <td>False</td>\n",
       "      <td>0.000034</td>\n",
       "      <td>0.669546</td>\n",
       "      <td>4</td>\n",
       "    </tr>\n",
       "    <tr>\n",
       "      <th>saine</th>\n",
       "      <td>False</td>\n",
       "      <td>0.000034</td>\n",
       "      <td>0.666091</td>\n",
       "      <td>5</td>\n",
       "    </tr>\n",
       "    <tr>\n",
       "      <th>soare</th>\n",
       "      <td>False</td>\n",
       "      <td>0.000030</td>\n",
       "      <td>0.660043</td>\n",
       "      <td>5</td>\n",
       "    </tr>\n",
       "    <tr>\n",
       "      <th>saice</th>\n",
       "      <td>False</td>\n",
       "      <td>0.000029</td>\n",
       "      <td>0.653132</td>\n",
       "      <td>5</td>\n",
       "    </tr>\n",
       "    <tr>\n",
       "      <th>sease</th>\n",
       "      <td>False</td>\n",
       "      <td>0.000030</td>\n",
       "      <td>0.652268</td>\n",
       "      <td>3</td>\n",
       "    </tr>\n",
       "    <tr>\n",
       "      <th>seare</th>\n",
       "      <td>False</td>\n",
       "      <td>0.000026</td>\n",
       "      <td>0.644060</td>\n",
       "      <td>4</td>\n",
       "    </tr>\n",
       "    <tr>\n",
       "      <th>seine</th>\n",
       "      <td>False</td>\n",
       "      <td>0.000027</td>\n",
       "      <td>0.639309</td>\n",
       "      <td>4</td>\n",
       "    </tr>\n",
       "    <tr>\n",
       "      <th>slane</th>\n",
       "      <td>False</td>\n",
       "      <td>0.000026</td>\n",
       "      <td>0.639309</td>\n",
       "      <td>5</td>\n",
       "    </tr>\n",
       "  </tbody>\n",
       "</table>\n",
       "</div>"
      ],
      "text/plain": [
       "       in_wordle_curated        wp      tglp  unique_letters\n",
       "w                                                           \n",
       "saree              False  0.000037  0.680346               4\n",
       "sooey              False  0.000043  0.678618               4\n",
       "soree              False  0.000034  0.669546               4\n",
       "saine              False  0.000034  0.666091               5\n",
       "soare              False  0.000030  0.660043               5\n",
       "saice              False  0.000029  0.653132               5\n",
       "sease              False  0.000030  0.652268               3\n",
       "seare              False  0.000026  0.644060               4\n",
       "seine              False  0.000027  0.639309               4\n",
       "slane              False  0.000026  0.639309               5"
      ]
     },
     "execution_count": 31,
     "metadata": {},
     "output_type": "execute_result"
    }
   ],
   "source": [
    "data = wl.loc[wl['in_wordle'], ['in_wordle_curated']]\n",
    "data['wp'] = calc_lfl(data.index, bowcur, colname='wp')   \n",
    "\n",
    "# wp = Word Probability from letter frequency\n",
    "# tglp = Total Green Letter Probability\n",
    "# sum of all probabilities of finding that letter in that position \n",
    "\n",
    "data['tglp'] = data.index.map(lambda x: total_green_letter_prob(x)) \n",
    "curated_sorted = data.sort_values(['in_wordle_curated', 'tglp'], ascending=False)\n",
    "curated_words = curated_sorted.loc[curated_sorted['in_wordle_curated']].index\n",
    "display(curated_words)\n",
    "data = data.sort_values('tglp', ascending=False)\n",
    "data['unique_letters'] = data.index.map(lambda x: len(set(x)))\n",
    "data.head(10)"
   ]
  },
  {
   "cell_type": "code",
   "execution_count": 32,
   "metadata": {},
   "outputs": [
    {
     "data": {
      "text/plain": [
       "<AxesSubplot:>"
      ]
     },
     "execution_count": 32,
     "metadata": {},
     "output_type": "execute_result"
    },
    {
     "data": {
      "image/png": "[encoded data removed]",
      "text/plain": [
       "<Figure size 432x288 with 1 Axes>"
      ]
     },
     "metadata": {
      "needs_background": "light"
     },
     "output_type": "display_data"
    }
   ],
   "source": [
    "data[data['in_wordle_curated']]['unique_letters'].hist()"
   ]
  },
  {
   "cell_type": "code",
   "execution_count": 35,
   "metadata": {},
   "outputs": [
    {
     "data": {
      "image/png": "[encoded data removed]",
      "text/plain": [
       "<Figure size 432x288 with 1 Axes>"
      ]
     },
     "metadata": {
      "needs_background": "light"
     },
     "output_type": "display_data"
    }
   ],
   "source": [
    "ul = data[data['in_wordle_curated']]['unique_letters']\n",
    "ul = ul.append(pd.Series({'dummy2': 1, 'dummy3': 2}))\n",
    "ul.hist(bins=5, color='steelblue')\n",
    "plt.title('Number of unique letters in 2315 Wordle words', fontsize=16)\n",
    "plt.xticks([1.4,2.2,3,3.8, 4.6,], ['1','2','3','4','5'], fontsize=12)\n",
    "plt.yticks([400,800,1200,1600],fontsize=14)\n",
    "plt.grid(alpha=0.0, axis='x')"
   ]
  },
  {
   "cell_type": "code",
   "execution_count": 36,
   "metadata": {},
   "outputs": [
    {
     "data": {
      "text/plain": [
       "(array([0. , 0.1, 0.2, 0.3, 0.4, 0.5, 0.6, 0.7, 0.8]),\n",
       " [Text(0, 0, ''),\n",
       "  Text(0, 0, ''),\n",
       "  Text(0, 0, ''),\n",
       "  Text(0, 0, ''),\n",
       "  Text(0, 0, ''),\n",
       "  Text(0, 0, ''),\n",
       "  Text(0, 0, ''),\n",
       "  Text(0, 0, ''),\n",
       "  Text(0, 0, '')])"
      ]
     },
     "execution_count": 36,
     "metadata": {},
     "output_type": "execute_result"
    },
    {
     "data": {
      "image/png": "[encoded data removed]",
      "text/plain": [
       "<Figure size 360x360 with 1 Axes>"
      ]
     },
     "metadata": {
      "needs_background": "light"
     },
     "output_type": "display_data"
    }
   ],
   "source": [
    "sns.boxplot(x='unique_letters', \n",
    "               y='tglp',\n",
    "#                scale='count',\n",
    "               data=data,\n",
    "#                order=['2', '3', '4', '5'], \n",
    "               orient='v')\n",
    "plt.ylim((0, 0.72))\n",
    "plt.annotate('n = 9', xy=(0, 0.02), fontsize=14, ha='center')\n",
    "plt.annotate('n = 456', xy=(1, 0.02), fontsize=14, ha='center')\n",
    "plt.annotate('n = 4185', xy=(2, 0.02), fontsize=14, ha='center')\n",
    "plt.annotate('n = 8322', xy=(3, 0.02), fontsize=14, ha='center')\n",
    "\n",
    "plt.gcf().set_size_inches((5, 5))\n",
    "plt.title('Number of unique letters in 2315 words', fontsize=16)\n",
    "plt.xticks(fontsize=14)\n",
    "plt.xlabel('Number of unique letters in word', fontsize=16)\n",
    "plt.ylabel('Total green letter probability', fontsize=16)\n",
    "plt.yticks(fontsize=14)"
   ]
  },
  {
   "cell_type": "code",
   "execution_count": null,
   "metadata": {},
   "outputs": [],
   "source": []
  }
 ],
 "metadata": {
  "kernelspec": {
   "display_name": "Python 3 (ipykernel)",
   "language": "python",
   "name": "python3"
  },
  "language_info": {
   "codemirror_mode": {
    "name": "ipython",
    "version": 3
   },
   "file_extension": ".py",
   "mimetype": "text/x-python",
   "name": "python",
   "nbconvert_exporter": "python",
   "pygments_lexer": "ipython3",
   "version": "3.9.7"
  }
 },
 "nbformat": 4,
 "nbformat_minor": 1
}